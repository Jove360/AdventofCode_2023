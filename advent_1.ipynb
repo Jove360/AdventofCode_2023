{
 "cells": [
  {
   "cell_type": "markdown",
   "metadata": {},
   "source": [
    "# Day 1: Trebuchet?!\n",
    "Something is wrong with global snow production, and you've been selected to take a look. The Elves have even given you a map; on it, they've used stars to mark the top fifty locations that are likely to be having problems.\n",
    "\n",
    "You've been doing this long enough to know that to restore snow operations, you need to check all fifty stars by December 25th.\n",
    "\n",
    "Collect stars by solving puzzles. Two puzzles will be made available on each day in the Advent calendar; the second puzzle is unlocked when you complete the first. Each puzzle grants one star. Good luck!\n",
    "\n",
    "You try to ask why they can't just use a weather machine (\"not powerful enough\") and where they're even sending you (\"the sky\") and why your map looks mostly blank (\"you sure ask a lot of questions\") and hang on did you just say the sky (\"of course, where do you think snow comes from\") when you realize that the Elves are already loading you into a trebuchet (\"please hold still, we need to strap you in\").\n",
    "\n",
    "As they're making the final adjustments, they discover that their calibration document (your puzzle input) has been amended by a very young Elf who was apparently just excited to show off her art skills. Consequently, the Elves are having trouble reading the values on the document.\n",
    "\n",
    "The newly-improved calibration document consists of lines of text; each line originally contained a specific calibration value that the Elves now need to recover. On each line, the calibration value can be found by combining the first digit and the last digit (in that order) to form a single two-digit number.\n",
    "\n",
    "For example:\n",
    "\n",
    "    1abc2\n",
    "    pqr3stu8vwx\n",
    "    a1b2c3d4e5f\n",
    "    treb7uchet\n",
    "\n",
    "In this example, the calibration values of these four lines are 12, 38, 15, and 77. Adding these together produces 142.\n",
    "\n",
    "Consider your entire calibration document. What is the sum of all of the calibration values?"
   ]
  },
  {
   "cell_type": "markdown",
   "metadata": {},
   "source": [
    "## Part 1"
   ]
  },
  {
   "cell_type": "code",
   "execution_count": 1,
   "metadata": {},
   "outputs": [],
   "source": [
    "import re\n",
    "\n",
    "def find_digits(input_string):\n",
    "\n",
    "    # Use \\d in the regular expression to match digits\n",
    "    digits = re.findall(r'\\d', input_string)\n",
    "\n",
    "    # Make sure you have two digits\n",
    "    if len(digits) == 1:\n",
    "        return int(digits[0])*10 + int(digits[0])\n",
    "    else:\n",
    "        return int(digits[0])*10 + int(digits[-1])"
   ]
  },
  {
   "cell_type": "code",
   "execution_count": 18,
   "metadata": {},
   "outputs": [
    {
     "name": "stdout",
     "output_type": "stream",
     "text": [
      "53334\n"
     ]
    }
   ],
   "source": [
    "# Open the file in read mode\n",
    "file_path = 'input_1.txt'  # Replace 'your_file.txt' with the actual file path\n",
    "number = 0\n",
    "with open(file_path, 'r') as file:\n",
    "    # Loop through each line in the file\n",
    "    for line in file:\n",
    "        number += find_digits(line)\n",
    "\n",
    "print(number)"
   ]
  },
  {
   "cell_type": "markdown",
   "metadata": {},
   "source": [
    "## Part 2"
   ]
  },
  {
   "cell_type": "markdown",
   "metadata": {},
   "source": [
    "Your calculation isn't quite right. It looks like some of the digits are actually spelled out with letters: one, two, three, four, five, six, seven, eight, and nine also count as valid \"digits\".\n",
    "\n",
    "Equipped with this new information, you now need to find the real first and last digit on each line. For example:\n",
    "\n",
    "    two1nine\n",
    "    eightwothree\n",
    "    abcone2threexyz\n",
    "    xtwone3four\n",
    "    4nineeightseven2\n",
    "    zoneight234\n",
    "    7pqrstsixteen\n",
    "\n",
    "In this example, the calibration values are 29, 83, 13, 24, 42, 14, and 76. Adding these together produces 281.\n",
    "\n",
    "What is the sum of all of the calibration values?"
   ]
  },
  {
   "cell_type": "code",
   "execution_count": 17,
   "metadata": {},
   "outputs": [
    {
     "name": "stdout",
     "output_type": "stream",
     "text": [
      "52834\n"
     ]
    }
   ],
   "source": [
    "# Define dictionary relating integers to strings\n",
    "d = {\"one\": 1, \"two\": 2, \"three\": 3, \"four\": 4, \"five\": 5, \"six\": 6, \"seven\": 7, \"eight\": 8, \"nine\": 9}\n",
    "# Solution variable\n",
    "sol = 0\n",
    "# Open the file in read mode\n",
    "file_path = 'input_1.txt'  \n",
    "\n",
    "with open(file_path, 'r') as file:\n",
    "    # Loop through each line in the file\n",
    "    for line in file:\n",
    "        d_sol = {}\n",
    "        l_sol = []\n",
    "        \n",
    "        # Loop through each digit in the dictionary\n",
    "        for key, value in d.items():\n",
    "            \n",
    "            # Find string digit and position index\n",
    "            indices = []\n",
    "            index = line.find(key)\n",
    "\n",
    "            # Find all \n",
    "            while index != -1:\n",
    "                indices.append(index)\n",
    "                index = line.find(key, index + 1)\n",
    "\n",
    "            # Keep only the first and last elements in the original list\n",
    "            if len(indices) > 1:\n",
    "                indices = indices[:1] + indices[-1:]\n",
    "            # Add to list and dictionary \n",
    "            for ind in indices:\n",
    "                d_sol[ind] = value \n",
    "                l_sol.append(ind)\n",
    "    \n",
    "        # Find int digit and position\n",
    "        digits = re.findall(r'\\d', line)\n",
    "        # Loop through each int digit found in line\n",
    "        for digit in digits:\n",
    "\n",
    "            # Find all indices of digit\n",
    "            indices = [index for index, char in enumerate(line) if char == digit]\n",
    "\n",
    "            # Keep only the first and last elements in the original list\n",
    "            if len(indices) > 1:\n",
    "                indices = indices[:1] + indices[-1:]\n",
    "            # Add all of them \n",
    "            for index in indices:\n",
    "                d_sol[index] = int(digit)\n",
    "                l_sol.append(index)\n",
    "\n",
    "        # Sort indeces\n",
    "        l_sol.sort()\n",
    "\n",
    "        # # Debug\n",
    "        # print(line)\n",
    "        # print(d_sol)\n",
    "        # print(l_sol)\n",
    "        # num = d_sol[l_sol[0]]*10 + d_sol[l_sol[-1]]\n",
    "        # print(num)\n",
    "\n",
    "        # Add solution\n",
    "        sol += d_sol[l_sol[0]]*10 + d_sol[l_sol[-1]]\n",
    "\n",
    "print(sol)"
   ]
  }
 ],
 "metadata": {
  "kernelspec": {
   "display_name": "Python 3",
   "language": "python",
   "name": "python3"
  },
  "language_info": {
   "codemirror_mode": {
    "name": "ipython",
    "version": 3
   },
   "file_extension": ".py",
   "mimetype": "text/x-python",
   "name": "python",
   "nbconvert_exporter": "python",
   "pygments_lexer": "ipython3",
   "version": "3.10.12"
  }
 },
 "nbformat": 4,
 "nbformat_minor": 2
}
